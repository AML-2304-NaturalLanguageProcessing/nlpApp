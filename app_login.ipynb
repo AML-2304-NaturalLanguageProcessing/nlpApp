{
  "nbformat": 4,
  "nbformat_minor": 0,
  "metadata": {
    "colab": {
      "provenance": []
    },
    "kernelspec": {
      "name": "python3",
      "display_name": "Python 3"
    },
    "language_info": {
      "name": "python"
    }
  },
  "cells": [
    {
      "cell_type": "code",
      "execution_count": null,
      "metadata": {
        "id": "df8EpAm0J8Pw"
      },
      "outputs": [],
      "source": [
        "import streamlit as st\n",
        "import hashlib\n",
        "import json\n",
        "import re"
      ]
    }
  ]
}